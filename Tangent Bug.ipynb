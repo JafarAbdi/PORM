{
 "cells": [
  {
   "cell_type": "code",
   "execution_count": 1,
   "metadata": {},
   "outputs": [],
   "source": [
    "import numpy as np\n",
    "import rospy\n",
    "import matplotlib\n",
    "import matplotlib.pyplot as plt\n",
    "import transformations as tf\n",
    "import pcl\n",
    "from nav_msgs.msg import Odometry, OccupancyGrid\n",
    "from geometry_msgs.msg import Twist, Point\n",
    "from sensor_msgs.msg import LaserScan, Range\n",
    "from numpy import sin, cos, pi\n",
    "%matplotlib inline\n",
    "%matplotlib notebook\n",
    "matplotlib.rcParams[\"figure.figsize\"] = (10, 6)"
   ]
  },
  {
   "cell_type": "code",
   "execution_count": 2,
   "metadata": {},
   "outputs": [],
   "source": [
    "from numpy.linalg import norm"
   ]
  },
  {
   "cell_type": "code",
   "execution_count": 5,
   "metadata": {},
   "outputs": [],
   "source": [
    "def get_normal(pts):\n",
    "    \"\"\"\n",
    "    @param pts: points to calculate normal to their least sqaure error minimizer line\n",
    "    @type numpy.ndarray\n",
    "    @return the coefficient of line b + a * x (a = coef[1], b = coef[0])\n",
    "    @rtype numpy.ndarray\n",
    "    \"\"\"\n",
    "    X = np.c_[np.ones((pts.shape[0],)), pts[:, 0]] # [1 x][b a]T\n",
    "    y = pts[:, 1]\n",
    "    coef = np.dot(np.linalg.pinv(X), y)\n",
    "    norm = np.array([coef[1], -1]) # normal to ax - y + b = 0 is <a, -1>\n",
    "    norm /= np.linalg.norm(norm)   # return the unit vector normal\n",
    "    \"\"\"\n",
    "    to test is acutally a normal\n",
    "    tangentVec = np.array([2 - 1, coef[1] * (2 - 1)])\n",
    "    tangentVec /= np.linalg.norm(tangentVec)\n",
    "    np.dot(pts[0,:] - pts[2,:], norm) should be ~= 0\n",
    "    np.dot(tangentVec, norm) == 0\n",
    "    \"\"\"\n",
    "    return norm"
   ]
  },
  {
   "cell_type": "code",
   "execution_count": 34,
   "metadata": {},
   "outputs": [],
   "source": [
    "def heuristic_fn(x, goal, pts):\n",
    "    #return np.sum((x - pts) ** 2, axis=-1) ** 0.5 + np.sum((pts - goal) ** 2, axis=-1) ** 0.5\n",
    "    return norm(x - pts, axis=-1) + norm(pts - goal, axis=-1) "
   ]
  },
  {
   "cell_type": "code",
   "execution_count": 14,
   "metadata": {},
   "outputs": [],
   "source": [
    "def get_n_minimize(x, goal, pts, hf):\n",
    "    idx = np.argmin(hf(x, goal, pts))\n",
    "    return pts[idx]"
   ]
  },
  {
   "cell_type": "code",
   "execution_count": 9,
   "metadata": {},
   "outputs": [],
   "source": [
    "def get_Oi_maximally_decrease(x, goal, Oi):\n",
    "    idx = np.argmin(np.sum((x - Os) ** 2, axis=-1) + np.sum((Os - goal) ** 2, axis=-1))\n",
    "    return Oi[idx]"
   ]
  },
  {
   "cell_type": "code",
   "execution_count": 35,
   "metadata": {},
   "outputs": [],
   "source": [
    "def discard_Oi(x, goal, Oi):\n",
    "    #idx = np.sum((Oi - goal) ** 2, axis=-1) ** 0.5 < np.sum((x - goal) ** 2) ** 0.5\n",
    "    idx = norm(Oi - goal, axis=-1) < norm(x - goal, axis=-1)\n",
    "    return Oi[idx]"
   ]
  },
  {
   "cell_type": "code",
   "execution_count": 11,
   "metadata": {},
   "outputs": [],
   "source": [
    "def get_angle(x, goal, angle_min=-2.094395160675049, angle_max=2.094395160675049, angle_increment=0.006289475131779909):\n",
    "    angles = np.arange(angle_min, angle_max + angle_increment, angle_increment)\n",
    "    v = (goal - x) / np.linalg.norm(x - goal)\n",
    "    theta = np.arccos(np.dot(v, [1, 0]))\n",
    "    idx = np.argmin(np.abs(angles - theta))\n",
    "    return angles[idx]"
   ]
  },
  {
   "cell_type": "code",
   "execution_count": 11,
   "metadata": {},
   "outputs": [],
   "source": [
    "def check_colision(x, pts, eps=0.025):\n",
    "    \"\"\"\n",
    "    Check if any of the pts are in inside a ball with eps radius centered at x\n",
    "    \"\"\"\n",
    "    if np.any(norm(x - pts, axis=-1) < eps):\n",
    "        return True\n",
    "    return False"
   ]
  },
  {
   "cell_type": "code",
   "execution_count": 76,
   "metadata": {},
   "outputs": [],
   "source": [
    "class TangentBug:\n",
    "    angles = None\n",
    "    ranges = None\n",
    "    angle_min = None\n",
    "    angle_max = None\n",
    "    angle_inc = None\n",
    "    range_max = None\n",
    "    q = None # [x, y]\n",
    "    th = None # theta\n",
    "    goal = None \n",
    "    ls_topic_name   = \"/robot0/laser_0\"\n",
    "    odom_topic_name = \"/robot0/odom\"\n",
    "    goal_topic_name = \"/robot0/goal\"\n",
    "    last_ls_msg = LaserScan()\n",
    "    def __init__(self):\n",
    "        # Subscribers\n",
    "        rospy.Subscriber(  self.ls_topic_name, LaserScan,   self.lsCB)\n",
    "        rospy.Subscriber(self.odom_topic_name,  Odometry, self.odomCB)\n",
    "        rospy.Subscriber(self.goal_topic_name,     Point, self.goalCB)\n",
    "        # Set some initial values\n",
    "        rospy.wait_for_message(  self.ls_topic_name, LaserScan)\n",
    "        rospy.wait_for_message(self.odom_topic_name,  Odometry)\n",
    "        self.angle_min = self.last_ls_msg.angle_min\n",
    "        self.angle_max = self.last_ls_msg.angle_max\n",
    "        self.angle_inc = self.last_ls_msg.angle_increment\n",
    "        self.range_max = self.last_ls_msg.range_max\n",
    "        self.goal = self.q + 0.001\n",
    "        self.angles    = np.arange(self.angle_min, self.angle_max + self.angle_inc, self.angle_inc)\n",
    "        # Publishers\n",
    "        self.VelPub = rospy.Publisher(\"/robot0/cmd_vel\", Twist, queue_size=10)\n",
    "        #TODO\n",
    "        rospy.loginfo(\"Tangent Bug Initialized\")\n",
    "    # LaserScan Callback\n",
    "    def lsCB(self, msg):\n",
    "        self.last_ls_msg = msg\n",
    "        #self.ranegs = self.sensor_to_robot(self.laserscan_to_numpy(msg), self.angles)\n",
    "    def odomCB(self, msg):\n",
    "        self.q  = np.array([msg.pose.pose.position.x, \n",
    "                            msg.pose.pose.position.y])\n",
    "        \n",
    "        self.th = tf.euler_from_quaternion([msg.pose.pose.orientation.x,\n",
    "                                            msg.pose.pose.orientation.y, \n",
    "                                            msg.pose.pose.orientation.z, \n",
    "                                            msg.pose.pose.orientation.w])[-1] # z component\n",
    "    def goalCB(self, msg):\n",
    "        self.goal  = np.array([msg.x, \n",
    "                               msg.y])\n",
    "    #@staticmethod\n",
    "    def sensor_to_robot(self, x, angles):\n",
    "        \"\"\"\n",
    "        transform the values from sensor frame to robot frame\n",
    "        @param  x :vals_wrt_sensor \n",
    "        @type   numpy.ndarray\n",
    "        @return the sensor values wrt robot frame\n",
    "        @rtype  numpy.ndarray\n",
    "        \"\"\"\n",
    "        vals_wrt_robot = map(lambda angle, z: list(np.dot(self.Rz(angle), [z, 0])), angles, x)\n",
    "        return np.array(vals_wrt_robot)\n",
    "    @staticmethod\n",
    "    def laserscan_to_numpy(ls):\n",
    "        \"\"\"\n",
    "        @param  ls: LaserScan msg\n",
    "        @type   sensor_msgs.msg.LaserScan\n",
    "        @return the numpy version of the range values of the sensor\n",
    "        @rtype  numpy.ndarray\n",
    "        \"\"\"\n",
    "        vals = np.array(list(ls.ranges))\n",
    "        return vals\n",
    "    @staticmethod\n",
    "    def Rz(angle):\n",
    "        \"\"\"\n",
    "        @param  angle in radians\n",
    "        @type   int\n",
    "        @return 2x2 rotation matrix about the z axis\n",
    "        @rtype  numpy.ndarray\n",
    "        \"\"\"\n",
    "        return tf.euler_matrix(0, 0, angle)[:2, :2]\n",
    "    @staticmethod\n",
    "    def Twr(angle, pos):\n",
    "        \"\"\"\n",
    "        1- translational 2- rotational\n",
    "        @param  angle: \n",
    "        @type   integer\n",
    "        @param  pos:\n",
    "        @type   numpy.ndarray\n",
    "        @return 3x3 homogeneous transformation matrix\n",
    "        @rtype  numpy.ndarray\n",
    "        \"\"\"\n",
    "        T = np.eye(3)#np.zeros((3, 3))\n",
    "        T[:2, :2] = tf.euler_matrix(0, 0, angle)[:2, :2]\n",
    "        T[:-1,-1] = pos\n",
    "        #R[-1, -1] = 1\n",
    "        return T\n",
    "    @staticmethod\n",
    "    def get_pts(vals, idx, num_pts = 1):\n",
    "        \"\"\"\n",
    "        @param  vals [x, y] coordinates of the sensor\n",
    "        @type   numpy.ndarray\n",
    "        @param  idx index of the points to return the symmetic points(num_pts) around it\n",
    "        @type   int\n",
    "        @param  num_pts number of points to return the value around idx\n",
    "        @type   int\n",
    "        @return [x, y] coordinates of the points within idx - num_pts and idx + num_pts + 1\n",
    "        @rtype  numpy.ndarray\n",
    "        \"\"\"\n",
    "        lower_bound = 0              if (idx - num_pts) < 0                   else (idx - num_pts) \n",
    "        upper_bound = vals.shape[-1] if (idx + num_pts + 1) >= vals.shape[-1] else (idx + num_pts + 1)\n",
    "        pts = vals[lower_bound:upper_bound, :]\n",
    "        return pts\n",
    "    def get_T(self, step_size=0.01, T_inf=True):\n",
    "        x         = self.q\n",
    "        goal      = self.goal\n",
    "        pts       = self.sensor_to_robot(self.laserscan_to_numpy(self.last_ls_msg), self.angles)\n",
    "        range_max = self.range_max\n",
    "        pt        = x\n",
    "        direction = (goal - x) / norm(goal - x)\n",
    "        dx        = direction * step_size\n",
    "        num_steps = int(range_max / step_size)\n",
    "        for i in range(num_steps):\n",
    "            if check_colision(pt, pts) == True:\n",
    "                if T_inf == True:\n",
    "                    return [np.inf, np.inf]\n",
    "                return pt\n",
    "            pt += dx\n",
    "        return pt\n",
    "    def robot_to_world(self, angle, x, data):\n",
    "        \"\"\"\n",
    "        transform the values from sensor frame to robot frame\n",
    "        @param  x :vals_wrt_sensor LaserScan msg\n",
    "        @type   sensor_msgs.msg.LaserScan\n",
    "        @return the sensor values wrt robot frame\n",
    "        @rtype  numpy.ndarray\n",
    "        \"\"\"\n",
    "        T = self.Twr(angle, x)\n",
    "        vals_wrt_world = map(lambda pt: list(np.dot(T, [pt[0], pt[1], 1])), data)\n",
    "        return np.array(vals_wrt_world)[:, :-1] # the last column is all 1's\n",
    "    def get_endpoints_idx(self):\n",
    "        Z = self.laserscan_to_numpy(self.last_ls_msg)\n",
    "        s = np.where(Z != np.inf)[0] # the index zero is becasue np.where returns a tuple (.,)\n",
    "        Oindx = np.where((s[1:] - s[0:-1]) != 1)[0]\n",
    "        Os = []\n",
    "        Os.append(s[0])\n",
    "        for O in Oindx:\n",
    "            Os.append(s[O])\n",
    "            Os.append(s[O + 1])\n",
    "        Os.append(s[-1])\n",
    "        return Os\n",
    "    "
   ]
  },
  {
   "cell_type": "code",
   "execution_count": null,
   "metadata": {},
   "outputs": [],
   "source": [
    "rospy.init_node(\"TangentBug\")\n",
    "bug = TangentBug()"
   ]
  },
  {
   "cell_type": "code",
   "execution_count": null,
   "metadata": {},
   "outputs": [],
   "source": [
    "bug.ge"
   ]
  },
  {
   "cell_type": "code",
   "execution_count": 72,
   "metadata": {},
   "outputs": [],
   "source": [
    "angles  = bug.angles\n",
    "ranges = bug.sensor_to_robot(bug.laserscan_to_numpy(bug.last_ls_msg), angles)"
   ]
  },
  {
   "cell_type": "code",
   "execution_count": 73,
   "metadata": {},
   "outputs": [],
   "source": [
    "Os = bug.get_endpoints_idx()\n",
    "T  = get_T(bug.q, bug.goal, ranges, bug.range_max)"
   ]
  },
  {
   "cell_type": "code",
   "execution_count": 74,
   "metadata": {},
   "outputs": [],
   "source": [
    "mins = get_n_minimize(bug.q, bug.goal, np.r_[ranges[Os], [list(T)]], heuristic_fn)"
   ]
  },
  {
   "cell_type": "code",
   "execution_count": 75,
   "metadata": {},
   "outputs": [
    {
     "data": {
      "text/plain": [
       "<matplotlib.collections.PathCollection at 0x7f397c333250>"
      ]
     },
     "execution_count": 75,
     "metadata": {},
     "output_type": "execute_result"
    },
    {
     "data": {
      "image/png": "[encoded data removed]",
      "text/plain": [
       "<matplotlib.figure.Figure at 0x7f397c237dd0>"
      ]
     },
     "metadata": {},
     "output_type": "display_data"
    }
   ],
   "source": [
    "fig = plt.figure()\n",
    "ax = fig.add_subplot(1, 1, 1)\n",
    "#ax.set_xticks(np.linspace(0., 6., 25))\n",
    "#ax.set_xticks(minor_ticks, minor=True)\n",
    "#ax.set_yticks(np.linspace(0., 6., 25))\n",
    "#ax.set_yticks(minor_ticks, minor=True)\n",
    "#plt.xlim((0, 6.))\n",
    "#plt.ylim((0, 6.))\n",
    "#plt.grid(True)\n",
    "ax.grid(which='both')\n",
    "ax.scatter(ranges[:,0], ranges[:, 1])\n",
    "ax.scatter(mins[0], mins[1], c=[1., 1., 0., 1.])\n",
    "ax.scatter(bug.goal[0], bug.goal[1], marker='x')\n",
    "ax.scatter(bug.q[0], bug.q[1], marker='o')\n",
    "#ax.scatter(np.r_[ranges[Os], [list(T)]][:, 0], np.r_[ranges[Os], [list(T)]][:, 1], c='r')"
   ]
  },
  {
   "cell_type": "code",
   "execution_count": null,
   "metadata": {},
   "outputs": [],
   "source": []
  }
 ],
 "metadata": {
  "kernelspec": {
   "display_name": "Python 2",
   "language": "python",
   "name": "python2"
  },
  "language_info": {
   "codemirror_mode": {
    "name": "ipython",
    "version": 2
   },
   "file_extension": ".py",
   "mimetype": "text/x-python",
   "name": "python",
   "nbconvert_exporter": "python",
   "pygments_lexer": "ipython2",
   "version": "2.7.12"
  }
 },
 "nbformat": 4,
 "nbformat_minor": 2
}
